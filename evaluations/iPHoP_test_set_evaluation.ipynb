{
 "cells": [
  {
   "cell_type": "code",
   "execution_count": 1,
   "metadata": {},
   "outputs": [],
   "source": [
    "# these are modules specific to this project, but I didn't make an actual package\n",
    "from model import GNNModule, GNNConfig\n",
    "from data import DataConfig, GraphDataModule\n",
    "\n",
    "from pathlib import Path\n",
    "\n",
    "\n",
    "import torch\n",
    "import itertools as it\n",
    "import polars as pl\n",
    "import polars.selectors as cs\n",
    "from torch_geometric.data import HeteroData"
   ]
  },
  {
   "cell_type": "code",
   "execution_count": 2,
   "metadata": {},
   "outputs": [
    {
     "name": "stdout",
     "output_type": "stream",
     "text": [
      "Python implementation: CPython\n",
      "Python version       : 3.10.14\n",
      "IPython version      : 8.24.0\n",
      "\n",
      "torch          : 2.2.2\n",
      "polars         : 0.20.26\n",
      "torch_geometric: 2.5.2\n",
      "\n"
     ]
    }
   ],
   "source": [
    "%load_ext watermark\n",
    "%watermark -vp torch,polars,torch_geometric"
   ]
  },
  {
   "cell_type": "code",
   "execution_count": 3,
   "metadata": {},
   "outputs": [
    {
     "data": {
      "text/html": [
       "<div><style>\n",
       ".dataframe > thead > tr,\n",
       ".dataframe > tbody > tr {\n",
       "  text-align: right;\n",
       "  white-space: pre-wrap;\n",
       "}\n",
       "</style>\n",
       "<small>shape: (3_947, 11)</small><table border=\"1\" class=\"dataframe\"><thead><tr><th>host_accession</th><th>host_name</th><th>host_label</th><th>host_taxonomy</th><th>host_domain</th><th>host_phylum</th><th>host_class</th><th>host_order</th><th>host_family</th><th>host_genus</th><th>host_species</th></tr><tr><td>str</td><td>str</td><td>str</td><td>str</td><td>str</td><td>str</td><td>str</td><td>str</td><td>str</td><td>str</td><td>str</td></tr></thead><tbody><tr><td>&quot;GCA_005222125.1&quot;</td><td>&quot;Spiroplasma melliferum&quot;</td><td>&quot;Spiroplasma melliferum&quot;</td><td>&quot;d__Bacteria;p__Bacillota;c__Ba…</td><td>&quot;d__Bacteria&quot;</td><td>&quot;p__Bacillota&quot;</td><td>&quot;c__Bacilli&quot;</td><td>&quot;o__Mycoplasmatales&quot;</td><td>&quot;f__Mycoplasmataceae&quot;</td><td>&quot;g__Spiroplasma&quot;</td><td>&quot;s__Spiroplasma melliferum&quot;</td></tr><tr><td>&quot;GCA_900475035.1&quot;</td><td>&quot;Streptococcus&quot;</td><td>&quot;Streptococcus sp.&quot;</td><td>&quot;d__Bacteria;p__Bacillota;c__Ba…</td><td>&quot;d__Bacteria&quot;</td><td>&quot;p__Bacillota&quot;</td><td>&quot;c__Bacilli&quot;</td><td>&quot;o__Lactobacillales&quot;</td><td>&quot;f__Streptococcaceae&quot;</td><td>&quot;g__Streptococcus&quot;</td><td>&quot;s__Streptococcus pyogenes&quot;</td></tr><tr><td>&quot;GCA_003987795.1&quot;</td><td>&quot;Curvibacter sp.&quot;</td><td>&quot;Curvibacter sp.&quot;</td><td>&quot;d__Bacteria;p__Pseudomonadota;…</td><td>&quot;d__Bacteria&quot;</td><td>&quot;p__Pseudomonadota&quot;</td><td>&quot;c__Gammaproteobacteria&quot;</td><td>&quot;o__Burkholderiales&quot;</td><td>&quot;f__Burkholderiaceae_B&quot;</td><td>&quot;g__Curvibacter&quot;</td><td>&quot;s__Curvibacter sp003987795&quot;</td></tr><tr><td>&quot;GCA_003790525.1&quot;</td><td>&quot;Escherichia coli 4s&quot;</td><td>&quot;Escherichia coli&quot;</td><td>&quot;d__Bacteria;p__Pseudomonadota;…</td><td>&quot;d__Bacteria&quot;</td><td>&quot;p__Pseudomonadota&quot;</td><td>&quot;c__Gammaproteobacteria&quot;</td><td>&quot;o__Enterobacterales&quot;</td><td>&quot;f__Enterobacteriaceae&quot;</td><td>&quot;g__Escherichia&quot;</td><td>&quot;s__Escherichia coli&quot;</td></tr><tr><td>&quot;GCA_000220485.1&quot;</td><td>&quot;Klebsiella pneumoniae 51503&quot;</td><td>&quot;Klebsiella pneumoniae&quot;</td><td>&quot;d__Bacteria;p__Pseudomonadota;…</td><td>&quot;d__Bacteria&quot;</td><td>&quot;p__Pseudomonadota&quot;</td><td>&quot;c__Gammaproteobacteria&quot;</td><td>&quot;o__Enterobacterales&quot;</td><td>&quot;f__Enterobacteriaceae&quot;</td><td>&quot;g__Klebsiella&quot;</td><td>&quot;s__Klebsiella pneumoniae&quot;</td></tr><tr><td>&hellip;</td><td>&hellip;</td><td>&hellip;</td><td>&hellip;</td><td>&hellip;</td><td>&hellip;</td><td>&hellip;</td><td>&hellip;</td><td>&hellip;</td><td>&hellip;</td><td>&hellip;</td></tr><tr><td>&quot;GCA_008479505.2&quot;</td><td>&quot;Salmonella enterica subsp. ent…</td><td>&quot;Salmonella enterica&quot;</td><td>&quot;d__Bacteria;p__Pseudomonadota;…</td><td>&quot;d__Bacteria&quot;</td><td>&quot;p__Pseudomonadota&quot;</td><td>&quot;c__Gammaproteobacteria&quot;</td><td>&quot;o__Enterobacterales&quot;</td><td>&quot;f__Enterobacteriaceae&quot;</td><td>&quot;g__Salmonella&quot;</td><td>&quot;s__Salmonella enterica&quot;</td></tr><tr><td>&quot;GCA_000025625.1&quot;</td><td>&quot;Natrialba magadii&quot;</td><td>&quot;Natrialba magadii&quot;</td><td>&quot;d__Archaea;p__Halobacteriota;c…</td><td>&quot;d__Archaea&quot;</td><td>&quot;p__Halobacteriota&quot;</td><td>&quot;c__Halobacteria&quot;</td><td>&quot;o__Halobacteriales&quot;</td><td>&quot;f__Natrialbaceae&quot;</td><td>&quot;g__Natrialba&quot;</td><td>&quot;s__Natrialba magadii&quot;</td></tr><tr><td>&quot;GCA_024229555.1&quot;</td><td>&quot;Alteromonas sp.&quot;</td><td>&quot;Alteromonas sp.&quot;</td><td>&quot;d__Bacteria;p__Pseudomonadota;…</td><td>&quot;d__Bacteria&quot;</td><td>&quot;p__Pseudomonadota&quot;</td><td>&quot;c__Gammaproteobacteria&quot;</td><td>&quot;o__Enterobacterales_A&quot;</td><td>&quot;f__Alteromonadaceae&quot;</td><td>&quot;g__Alteromonas&quot;</td><td>&quot;s__Alteromonas sp002691625&quot;</td></tr><tr><td>&quot;GCA_002079225.1&quot;</td><td>&quot;Escherichia coli STEC O179&quot;</td><td>&quot;Escherichia coli&quot;</td><td>&quot;d__Bacteria;p__Pseudomonadota;…</td><td>&quot;d__Bacteria&quot;</td><td>&quot;p__Pseudomonadota&quot;</td><td>&quot;c__Gammaproteobacteria&quot;</td><td>&quot;o__Enterobacterales&quot;</td><td>&quot;f__Enterobacteriaceae&quot;</td><td>&quot;g__Escherichia&quot;</td><td>&quot;s__Escherichia coli&quot;</td></tr><tr><td>&quot;GCA_002761055.1&quot;</td><td>&quot;Salmonella&quot;</td><td>&quot;Salmonella sp.&quot;</td><td>&quot;d__Bacteria;p__Pseudomonadota;…</td><td>&quot;d__Bacteria&quot;</td><td>&quot;p__Pseudomonadota&quot;</td><td>&quot;c__Gammaproteobacteria&quot;</td><td>&quot;o__Enterobacterales&quot;</td><td>&quot;f__Enterobacteriaceae&quot;</td><td>&quot;g__Salmonella&quot;</td><td>&quot;s__Salmonella enterica&quot;</td></tr></tbody></table></div>"
      ],
      "text/plain": [
       "shape: (3_947, 11)\n",
       "┌───────────┬───────────┬───────────┬───────────┬───┬───────────┬───────────┬───────────┬──────────┐\n",
       "│ host_acce ┆ host_name ┆ host_labe ┆ host_taxo ┆ … ┆ host_orde ┆ host_fami ┆ host_genu ┆ host_spe │\n",
       "│ ssion     ┆ ---       ┆ l         ┆ nomy      ┆   ┆ r         ┆ ly        ┆ s         ┆ cies     │\n",
       "│ ---       ┆ str       ┆ ---       ┆ ---       ┆   ┆ ---       ┆ ---       ┆ ---       ┆ ---      │\n",
       "│ str       ┆           ┆ str       ┆ str       ┆   ┆ str       ┆ str       ┆ str       ┆ str      │\n",
       "╞═══════════╪═══════════╪═══════════╪═══════════╪═══╪═══════════╪═══════════╪═══════════╪══════════╡\n",
       "│ GCA_00522 ┆ Spiroplas ┆ Spiroplas ┆ d__Bacter ┆ … ┆ o__Mycopl ┆ f__Mycopl ┆ g__Spirop ┆ s__Spiro │\n",
       "│ 2125.1    ┆ ma mellif ┆ ma mellif ┆ ia;p__Bac ┆   ┆ asmatales ┆ asmatacea ┆ lasma     ┆ plasma   │\n",
       "│           ┆ erum      ┆ erum      ┆ illota;c_ ┆   ┆           ┆ e         ┆           ┆ mellifer │\n",
       "│           ┆           ┆           ┆ _Ba…      ┆   ┆           ┆           ┆           ┆ um       │\n",
       "│ GCA_90047 ┆ Streptoco ┆ Streptoco ┆ d__Bacter ┆ … ┆ o__Lactob ┆ f__Strept ┆ g__Strept ┆ s__Strep │\n",
       "│ 5035.1    ┆ ccus      ┆ ccus sp.  ┆ ia;p__Bac ┆   ┆ acillales ┆ ococcacea ┆ ococcus   ┆ tococcus │\n",
       "│           ┆           ┆           ┆ illota;c_ ┆   ┆           ┆ e         ┆           ┆ pyogenes │\n",
       "│           ┆           ┆           ┆ _Ba…      ┆   ┆           ┆           ┆           ┆          │\n",
       "│ GCA_00398 ┆ Curvibact ┆ Curvibact ┆ d__Bacter ┆ … ┆ o__Burkho ┆ f__Burkho ┆ g__Curvib ┆ s__Curvi │\n",
       "│ 7795.1    ┆ er sp.    ┆ er sp.    ┆ ia;p__Pse ┆   ┆ lderiales ┆ lderiacea ┆ acter     ┆ bacter   │\n",
       "│           ┆           ┆           ┆ udomonado ┆   ┆           ┆ e_B       ┆           ┆ sp003987 │\n",
       "│           ┆           ┆           ┆ ta;…      ┆   ┆           ┆           ┆           ┆ 795      │\n",
       "│ GCA_00379 ┆ Escherich ┆ Escherich ┆ d__Bacter ┆ … ┆ o__Entero ┆ f__Entero ┆ g__Escher ┆ s__Esche │\n",
       "│ 0525.1    ┆ ia coli   ┆ ia coli   ┆ ia;p__Pse ┆   ┆ bacterale ┆ bacteriac ┆ ichia     ┆ richia   │\n",
       "│           ┆ 4s        ┆           ┆ udomonado ┆   ┆ s         ┆ eae       ┆           ┆ coli     │\n",
       "│           ┆           ┆           ┆ ta;…      ┆   ┆           ┆           ┆           ┆          │\n",
       "│ GCA_00022 ┆ Klebsiell ┆ Klebsiell ┆ d__Bacter ┆ … ┆ o__Entero ┆ f__Entero ┆ g__Klebsi ┆ s__Klebs │\n",
       "│ 0485.1    ┆ a pneumon ┆ a pneumon ┆ ia;p__Pse ┆   ┆ bacterale ┆ bacteriac ┆ ella      ┆ iella    │\n",
       "│           ┆ iae 51503 ┆ iae       ┆ udomonado ┆   ┆ s         ┆ eae       ┆           ┆ pneumoni │\n",
       "│           ┆           ┆           ┆ ta;…      ┆   ┆           ┆           ┆           ┆ ae       │\n",
       "│ …         ┆ …         ┆ …         ┆ …         ┆ … ┆ …         ┆ …         ┆ …         ┆ …        │\n",
       "│ GCA_00847 ┆ Salmonell ┆ Salmonell ┆ d__Bacter ┆ … ┆ o__Entero ┆ f__Entero ┆ g__Salmon ┆ s__Salmo │\n",
       "│ 9505.2    ┆ a         ┆ a         ┆ ia;p__Pse ┆   ┆ bacterale ┆ bacteriac ┆ ella      ┆ nella    │\n",
       "│           ┆ enterica  ┆ enterica  ┆ udomonado ┆   ┆ s         ┆ eae       ┆           ┆ enterica │\n",
       "│           ┆ subsp.    ┆           ┆ ta;…      ┆   ┆           ┆           ┆           ┆          │\n",
       "│           ┆ ent…      ┆           ┆           ┆   ┆           ┆           ┆           ┆          │\n",
       "│ GCA_00002 ┆ Natrialba ┆ Natrialba ┆ d__Archae ┆ … ┆ o__Haloba ┆ f__Natria ┆ g__Natria ┆ s__Natri │\n",
       "│ 5625.1    ┆ magadii   ┆ magadii   ┆ a;p__Halo ┆   ┆ cteriales ┆ lbaceae   ┆ lba       ┆ alba     │\n",
       "│           ┆           ┆           ┆ bacteriot ┆   ┆           ┆           ┆           ┆ magadii  │\n",
       "│           ┆           ┆           ┆ a;c…      ┆   ┆           ┆           ┆           ┆          │\n",
       "│ GCA_02422 ┆ Alteromon ┆ Alteromon ┆ d__Bacter ┆ … ┆ o__Entero ┆ f__Altero ┆ g__Altero ┆ s__Alter │\n",
       "│ 9555.1    ┆ as sp.    ┆ as sp.    ┆ ia;p__Pse ┆   ┆ bacterale ┆ monadacea ┆ monas     ┆ omonas   │\n",
       "│           ┆           ┆           ┆ udomonado ┆   ┆ s_A       ┆ e         ┆           ┆ sp002691 │\n",
       "│           ┆           ┆           ┆ ta;…      ┆   ┆           ┆           ┆           ┆ 625      │\n",
       "│ GCA_00207 ┆ Escherich ┆ Escherich ┆ d__Bacter ┆ … ┆ o__Entero ┆ f__Entero ┆ g__Escher ┆ s__Esche │\n",
       "│ 9225.1    ┆ ia coli   ┆ ia coli   ┆ ia;p__Pse ┆   ┆ bacterale ┆ bacteriac ┆ ichia     ┆ richia   │\n",
       "│           ┆ STEC O179 ┆           ┆ udomonado ┆   ┆ s         ┆ eae       ┆           ┆ coli     │\n",
       "│           ┆           ┆           ┆ ta;…      ┆   ┆           ┆           ┆           ┆          │\n",
       "│ GCA_00276 ┆ Salmonell ┆ Salmonell ┆ d__Bacter ┆ … ┆ o__Entero ┆ f__Entero ┆ g__Salmon ┆ s__Salmo │\n",
       "│ 1055.1    ┆ a         ┆ a sp.     ┆ ia;p__Pse ┆   ┆ bacterale ┆ bacteriac ┆ ella      ┆ nella    │\n",
       "│           ┆           ┆           ┆ udomonado ┆   ┆ s         ┆ eae       ┆           ┆ enterica │\n",
       "│           ┆           ┆           ┆ ta;…      ┆   ┆           ┆           ┆           ┆          │\n",
       "└───────────┴───────────┴───────────┴───────────┴───┴───────────┴───────────┴───────────┴──────────┘"
      ]
     },
     "execution_count": 3,
     "metadata": {},
     "output_type": "execute_result"
    }
   ],
   "source": [
    "host_taxa_levels = [\"domain\", \"phylum\", \"class\", \"order\", \"family\", \"genus\", \"species\"]\n",
    "host_taxa_levels = [f\"host_{level}\" for level in host_taxa_levels]\n",
    "\n",
    "host_info = (\n",
    "    pl.read_csv(\"../data/supplementary_table_8.tsv\", separator=\"\\t\")\n",
    "    .rename({\"host_species\": \"host_name\", \"gtdbtk_classification\": \"host_taxonomy\"})\n",
    "    .with_columns(\n",
    "        host_lineage = (\n",
    "            pl.col(\"host_taxonomy\")\n",
    "            .str\n",
    "            .split(\";\")\n",
    "            .list\n",
    "            .to_struct(fields = host_taxa_levels)\n",
    "        ),\n",
    "    )\n",
    "    .unnest(\"host_lineage\")\n",
    "    .select(cs.starts_with(\"host\"))\n",
    "    .unique()\n",
    ")\n",
    "\n",
    "host_info"
   ]
  },
  {
   "cell_type": "code",
   "execution_count": 4,
   "metadata": {},
   "outputs": [],
   "source": [
    "def load_everything(knowledge_graph_file: Path, ckptfile: Path) -> tuple[GNNModule, GraphDataModule]:\n",
    "    ckpt = torch.load(ckptfile, map_location=\"cpu\")\n",
    "    ckpt[\"datamodule_hyper_parameters\"][\"file\"] = knowledge_graph_file\n",
    "\n",
    "    datacfg = DataConfig.model_validate(ckpt[\"datamodule_hyper_parameters\"])\n",
    "    datamodule = GraphDataModule(datacfg)\n",
    "\n",
    "    modelcfg = GNNConfig.model_validate(ckpt[\"hyper_parameters\"])\n",
    "    model = GNNModule(modelcfg, datamodule.data.metadata())\n",
    "    model.load_state_dict(ckpt[\"state_dict\"])\n",
    "    return model, datamodule\n",
    "\n",
    "def edge_index_to_set_of_tuples(edge_index: torch.Tensor) -> set[tuple[int, int]]:\n",
    "    if edge_index.shape[0] != 2:\n",
    "        raise ValueError(\"edge_index must have shape (2, E)\")\n",
    "    \n",
    "    return set(tuple(map(int, col)) for col in edge_index.t()) # type: ignore\n",
    "\n",
    "def enumerate_all_virus_host_pairs(dataset: HeteroData) -> tuple[torch.Tensor, torch.Tensor]:\n",
    "    true_edge_index = dataset[\"infects\"].edge_index\n",
    "    n_viruses, n_hosts = map(int, true_edge_index.amax(1) + 1)\n",
    "\n",
    "    # shape is [E, 2]\n",
    "    full_edge_index = torch.tensor(\n",
    "        list(it.product(range(n_viruses), range(n_hosts))),\n",
    "    )\n",
    "\n",
    "    true_edges = edge_index_to_set_of_tuples(true_edge_index)\n",
    "    edge_label_list: list[bool] = []\n",
    "    for edge in full_edge_index:\n",
    "        edge = tuple(map(int, edge))\n",
    "        edge_label_list.append(edge in true_edges)\n",
    "    edge_label = torch.tensor(edge_label_list)\n",
    "\n",
    "    # reshape to [2, E]\n",
    "    return full_edge_index.t().contiguous(), edge_label"
   ]
  },
  {
   "cell_type": "code",
   "execution_count": 5,
   "metadata": {},
   "outputs": [],
   "source": [
    "dataset_name = \"pst-large\"\n",
    "\n",
    "model, dataset = load_everything(\n",
    "    Path(f\"../data/knowledge_graphs/{dataset_name}_knowledge_graph.pt\"),\n",
    "    Path(f\"trained_models/{dataset_name}_trained_model.ckpt\")\n",
    ")"
   ]
  },
  {
   "cell_type": "code",
   "execution_count": 6,
   "metadata": {},
   "outputs": [
    {
     "data": {
      "text/plain": [
       "31484"
      ]
     },
     "execution_count": 6,
     "metadata": {},
     "output_type": "execute_result"
    }
   ],
   "source": [
    "true_edges = edge_index_to_set_of_tuples(dataset.data[\"infects\"].edge_index)\n",
    "len(true_edges)"
   ]
  },
  {
   "cell_type": "code",
   "execution_count": 7,
   "metadata": {},
   "outputs": [
    {
     "data": {
      "text/plain": [
       "torch.Size([2, 4237520])"
      ]
     },
     "execution_count": 7,
     "metadata": {},
     "output_type": "execute_result"
    }
   ],
   "source": [
    "# we nede to create a fully-enumerated edge index for all pairs of viruses and \n",
    "# hosts in the knowledge graph. This will be used to evaluate the model\n",
    "# we also keep track of which edges are actually in the knowledge graph\n",
    "full_edge_index, full_edge_label = enumerate_all_virus_host_pairs(dataset.data)\n",
    "full_edge_index.shape"
   ]
  },
  {
   "cell_type": "code",
   "execution_count": 8,
   "metadata": {},
   "outputs": [],
   "source": [
    "@torch.no_grad()\n",
    "def predict(\n",
    "    model: GNNModule, \n",
    "    dataset: HeteroData, \n",
    "    inference_edge_index: torch.Tensor, \n",
    "    inference_edge_labels: torch.Tensor,\n",
    "    evaluate_test_only: bool = True,\n",
    ") -> pl.DataFrame:\n",
    "    model.eval()\n",
    "\n",
    "    virus_test_mask = dataset[\"virus\"].test_mask\n",
    "    inference_edge_test_mask = virus_test_mask[inference_edge_index[0]]\n",
    "\n",
    "    logit = model(dataset, inference_edge_index)\n",
    "\n",
    "    if evaluate_test_only:\n",
    "        # need to clone so that the .numpy call works later\n",
    "        inference_edge_index = inference_edge_index[:, inference_edge_test_mask].clone()\n",
    "        inference_edge_labels = inference_edge_labels[inference_edge_test_mask]\n",
    "        logit = logit[inference_edge_test_mask]\n",
    "\n",
    "    proba = torch.sigmoid(logit)\n",
    "    results = pl.DataFrame({\n",
    "        \"virus_id\": inference_edge_index[0].numpy(),\n",
    "        \"host_id\": inference_edge_index[1].numpy(),\n",
    "        \"logit\": logit.numpy(),\n",
    "        \"proba\": proba.numpy(),\n",
    "        \"label\": inference_edge_labels.numpy(),\n",
    "        \"host\": dataset[\"host\"].label[dataset[\"host\"].y[inference_edge_index[1]]],\n",
    "        # \"test_virus\": inference_edge_test_mask.numpy(),\n",
    "    })\n",
    "\n",
    "    if not evaluate_test_only:\n",
    "        results[\"test_mask\"] = inference_edge_test_mask.numpy()\n",
    "\n",
    "    return results\n",
    "\n",
    "def summarize_predictions(results: pl.DataFrame) -> pl.DataFrame:\n",
    "    start = (\n",
    "        results\n",
    "        .group_by(\"virus_id\", \"host\")\n",
    "        .agg(\n",
    "            pl.max(\"logit\", \"proba\"),\n",
    "            pl.any(\"label\"),\n",
    "        )\n",
    "        .join(host_info.drop(\"host_taxonomy\", \"host_accession\").unique(), left_on=\"host\", right_on=\"host_label\")\n",
    "        .sort([\"virus_id\", \"logit\"], descending=[False, True])\n",
    "    )\n",
    "\n",
    "    # keep track of all possible host labels for each virus\n",
    "    true_labels = (\n",
    "        start\n",
    "        .lazy()\n",
    "        .filter(pl.col(\"label\"))\n",
    "        .group_by(\"virus_id\")\n",
    "        .agg(\n",
    "            *[\n",
    "                pl.col(c).unique()\n",
    "                for c in host_taxa_levels\n",
    "            ],\n",
    "            pl.max(\"logit\", \"proba\")\n",
    "        )\n",
    "        .collect()\n",
    "    )\n",
    "\n",
    "    summary = (\n",
    "        start\n",
    "        .join(true_labels, on=\"virus_id\", suffix=\"_true\")\n",
    "        .with_columns(\n",
    "            *[\n",
    "                pl.col(f\"{c}_true\").list.contains(pl.col(c))\n",
    "                for c in host_taxa_levels\n",
    "            ]\n",
    "        )\n",
    "        .sort([\"virus_id\"])\n",
    "    )\n",
    "\n",
    "    return summary"
   ]
  },
  {
   "cell_type": "code",
   "execution_count": 9,
   "metadata": {},
   "outputs": [
    {
     "data": {
      "text/html": [
       "<div><style>\n",
       ".dataframe > thead > tr,\n",
       ".dataframe > tbody > tr {\n",
       "  text-align: right;\n",
       "  white-space: pre-wrap;\n",
       "}\n",
       "</style>\n",
       "<small>shape: (2_404_920, 22)</small><table border=\"1\" class=\"dataframe\"><thead><tr><th>virus_id</th><th>host</th><th>logit</th><th>proba</th><th>label</th><th>host_name</th><th>host_domain</th><th>host_phylum</th><th>host_class</th><th>host_order</th><th>host_family</th><th>host_genus</th><th>host_species</th><th>host_domain_true</th><th>host_phylum_true</th><th>host_class_true</th><th>host_order_true</th><th>host_family_true</th><th>host_genus_true</th><th>host_species_true</th><th>logit_true</th><th>proba_true</th></tr><tr><td>i64</td><td>str</td><td>f32</td><td>f32</td><td>bool</td><td>str</td><td>str</td><td>str</td><td>str</td><td>str</td><td>str</td><td>str</td><td>str</td><td>bool</td><td>bool</td><td>bool</td><td>bool</td><td>bool</td><td>bool</td><td>bool</td><td>f32</td><td>f32</td></tr></thead><tbody><tr><td>0</td><td>&quot;Bacteroides intestinalis&quot;</td><td>-1.421236</td><td>0.194468</td><td>false</td><td>&quot;Bacteroides intestinalis&quot;</td><td>&quot;d__Bacteria&quot;</td><td>&quot;p__Bacteroidota&quot;</td><td>&quot;c__Bacteroidia&quot;</td><td>&quot;o__Bacteroidales&quot;</td><td>&quot;f__Bacteroidaceae&quot;</td><td>&quot;g__Bacteroides&quot;</td><td>&quot;s__Bacteroides intestinalis&quot;</td><td>true</td><td>false</td><td>false</td><td>false</td><td>false</td><td>false</td><td>false</td><td>-1.63951</td><td>0.162532</td></tr><tr><td>0</td><td>&quot;Kitasatospora aureofaciens&quot;</td><td>-1.550044</td><td>0.17508</td><td>false</td><td>&quot;Kitasatospora aureofaciens&quot;</td><td>&quot;d__Bacteria&quot;</td><td>&quot;p__Actinomycetota&quot;</td><td>&quot;c__Actinomycetia&quot;</td><td>&quot;o__Streptomycetales&quot;</td><td>&quot;f__Streptomycetaceae&quot;</td><td>&quot;g__Kitasatospora&quot;</td><td>&quot;s__Kitasatospora aureofaciens&quot;</td><td>true</td><td>false</td><td>false</td><td>false</td><td>false</td><td>false</td><td>false</td><td>-1.63951</td><td>0.162532</td></tr><tr><td>0</td><td>&quot;Wolbachia sp.&quot;</td><td>-1.63951</td><td>0.162532</td><td>true</td><td>&quot;Wolbachia sp.&quot;</td><td>&quot;d__Bacteria&quot;</td><td>&quot;p__Pseudomonadota&quot;</td><td>&quot;c__Alphaproteobacteria&quot;</td><td>&quot;o__Rickettsiales&quot;</td><td>&quot;f__Anaplasmataceae&quot;</td><td>&quot;g__Wolbachia&quot;</td><td>&quot;s__Wolbachia_SPECIES&quot;</td><td>true</td><td>true</td><td>true</td><td>true</td><td>true</td><td>true</td><td>true</td><td>-1.63951</td><td>0.162532</td></tr><tr><td>0</td><td>&quot;Pseudomonas grimontii&quot;</td><td>-2.078492</td><td>0.111205</td><td>false</td><td>&quot;Pseudomonas grimontii&quot;</td><td>&quot;d__Bacteria&quot;</td><td>&quot;p__Pseudomonadota&quot;</td><td>&quot;c__Gammaproteobacteria&quot;</td><td>&quot;o__Pseudomonadales&quot;</td><td>&quot;f__Pseudomonadaceae&quot;</td><td>&quot;g__Pseudomonas_E&quot;</td><td>&quot;s__Pseudomonas_E grimontii&quot;</td><td>true</td><td>true</td><td>false</td><td>false</td><td>false</td><td>false</td><td>false</td><td>-1.63951</td><td>0.162532</td></tr><tr><td>0</td><td>&quot;Vibrio pelagius&quot;</td><td>-2.19977</td><td>0.099771</td><td>false</td><td>&quot;Vibrio pelagius&quot;</td><td>&quot;d__Bacteria&quot;</td><td>&quot;p__Pseudomonadota&quot;</td><td>&quot;c__Gammaproteobacteria&quot;</td><td>&quot;o__Enterobacterales_A&quot;</td><td>&quot;f__Vibrionaceae&quot;</td><td>&quot;g__Vibrio&quot;</td><td>&quot;s__Vibrio pelagius&quot;</td><td>true</td><td>true</td><td>false</td><td>false</td><td>false</td><td>false</td><td>false</td><td>-1.63951</td><td>0.162532</td></tr><tr><td>&hellip;</td><td>&hellip;</td><td>&hellip;</td><td>&hellip;</td><td>&hellip;</td><td>&hellip;</td><td>&hellip;</td><td>&hellip;</td><td>&hellip;</td><td>&hellip;</td><td>&hellip;</td><td>&hellip;</td><td>&hellip;</td><td>&hellip;</td><td>&hellip;</td><td>&hellip;</td><td>&hellip;</td><td>&hellip;</td><td>&hellip;</td><td>&hellip;</td><td>&hellip;</td><td>&hellip;</td></tr><tr><td>5263</td><td>&quot;Kitasatospora aureofaciens&quot;</td><td>-7.388738</td><td>0.000618</td><td>false</td><td>&quot;Kitasatospora aureofaciens&quot;</td><td>&quot;d__Bacteria&quot;</td><td>&quot;p__Actinomycetota&quot;</td><td>&quot;c__Actinomycetia&quot;</td><td>&quot;o__Streptomycetales&quot;</td><td>&quot;f__Streptomycetaceae&quot;</td><td>&quot;g__Kitasatospora&quot;</td><td>&quot;s__Kitasatospora aureofaciens&quot;</td><td>true</td><td>false</td><td>false</td><td>false</td><td>false</td><td>false</td><td>false</td><td>2.821479</td><td>0.943826</td></tr><tr><td>5263</td><td>&quot;Bacteroides intestinalis&quot;</td><td>-7.461622</td><td>0.000574</td><td>false</td><td>&quot;Bacteroides intestinalis&quot;</td><td>&quot;d__Bacteria&quot;</td><td>&quot;p__Bacteroidota&quot;</td><td>&quot;c__Bacteroidia&quot;</td><td>&quot;o__Bacteroidales&quot;</td><td>&quot;f__Bacteroidaceae&quot;</td><td>&quot;g__Bacteroides&quot;</td><td>&quot;s__Bacteroides intestinalis&quot;</td><td>true</td><td>false</td><td>false</td><td>false</td><td>false</td><td>false</td><td>false</td><td>2.821479</td><td>0.943826</td></tr><tr><td>5263</td><td>&quot;Wolbachia sp.&quot;</td><td>-7.678973</td><td>0.000462</td><td>false</td><td>&quot;Wolbachia sp.&quot;</td><td>&quot;d__Bacteria&quot;</td><td>&quot;p__Pseudomonadota&quot;</td><td>&quot;c__Alphaproteobacteria&quot;</td><td>&quot;o__Rickettsiales&quot;</td><td>&quot;f__Anaplasmataceae&quot;</td><td>&quot;g__Wolbachia&quot;</td><td>&quot;s__Wolbachia_SPECIES&quot;</td><td>true</td><td>true</td><td>false</td><td>false</td><td>false</td><td>false</td><td>false</td><td>2.821479</td><td>0.943826</td></tr><tr><td>5263</td><td>&quot;Vibrio pelagius&quot;</td><td>-7.898198</td><td>0.000371</td><td>false</td><td>&quot;Vibrio pelagius&quot;</td><td>&quot;d__Bacteria&quot;</td><td>&quot;p__Pseudomonadota&quot;</td><td>&quot;c__Gammaproteobacteria&quot;</td><td>&quot;o__Enterobacterales_A&quot;</td><td>&quot;f__Vibrionaceae&quot;</td><td>&quot;g__Vibrio&quot;</td><td>&quot;s__Vibrio pelagius&quot;</td><td>true</td><td>true</td><td>true</td><td>false</td><td>false</td><td>false</td><td>false</td><td>2.821479</td><td>0.943826</td></tr><tr><td>5263</td><td>&quot;Streptococcus acidominimus&quot;</td><td>-8.704237</td><td>0.000166</td><td>false</td><td>&quot;Streptococcus acidominimus ATC…</td><td>&quot;d__Bacteria&quot;</td><td>&quot;p__Bacillota&quot;</td><td>&quot;c__Bacilli&quot;</td><td>&quot;o__Lactobacillales&quot;</td><td>&quot;f__Streptococcaceae&quot;</td><td>&quot;g__Streptococcus&quot;</td><td>&quot;s__Streptococcus acidominimus&quot;</td><td>true</td><td>false</td><td>false</td><td>false</td><td>false</td><td>false</td><td>false</td><td>2.821479</td><td>0.943826</td></tr></tbody></table></div>"
      ],
      "text/plain": [
       "shape: (2_404_920, 22)\n",
       "┌──────────┬────────────┬───────────┬──────────┬───┬───────────┬───────────┬───────────┬───────────┐\n",
       "│ virus_id ┆ host       ┆ logit     ┆ proba    ┆ … ┆ host_genu ┆ host_spec ┆ logit_tru ┆ proba_tru │\n",
       "│ ---      ┆ ---        ┆ ---       ┆ ---      ┆   ┆ s_true    ┆ ies_true  ┆ e         ┆ e         │\n",
       "│ i64      ┆ str        ┆ f32       ┆ f32      ┆   ┆ ---       ┆ ---       ┆ ---       ┆ ---       │\n",
       "│          ┆            ┆           ┆          ┆   ┆ bool      ┆ bool      ┆ f32       ┆ f32       │\n",
       "╞══════════╪════════════╪═══════════╪══════════╪═══╪═══════════╪═══════════╪═══════════╪═══════════╡\n",
       "│ 0        ┆ Bacteroide ┆ -1.421236 ┆ 0.194468 ┆ … ┆ false     ┆ false     ┆ -1.63951  ┆ 0.162532  │\n",
       "│          ┆ s intestin ┆           ┆          ┆   ┆           ┆           ┆           ┆           │\n",
       "│          ┆ alis       ┆           ┆          ┆   ┆           ┆           ┆           ┆           │\n",
       "│ 0        ┆ Kitasatosp ┆ -1.550044 ┆ 0.17508  ┆ … ┆ false     ┆ false     ┆ -1.63951  ┆ 0.162532  │\n",
       "│          ┆ ora aureof ┆           ┆          ┆   ┆           ┆           ┆           ┆           │\n",
       "│          ┆ aciens     ┆           ┆          ┆   ┆           ┆           ┆           ┆           │\n",
       "│ 0        ┆ Wolbachia  ┆ -1.63951  ┆ 0.162532 ┆ … ┆ true      ┆ true      ┆ -1.63951  ┆ 0.162532  │\n",
       "│          ┆ sp.        ┆           ┆          ┆   ┆           ┆           ┆           ┆           │\n",
       "│ 0        ┆ Pseudomona ┆ -2.078492 ┆ 0.111205 ┆ … ┆ false     ┆ false     ┆ -1.63951  ┆ 0.162532  │\n",
       "│          ┆ s          ┆           ┆          ┆   ┆           ┆           ┆           ┆           │\n",
       "│          ┆ grimontii  ┆           ┆          ┆   ┆           ┆           ┆           ┆           │\n",
       "│ 0        ┆ Vibrio     ┆ -2.19977  ┆ 0.099771 ┆ … ┆ false     ┆ false     ┆ -1.63951  ┆ 0.162532  │\n",
       "│          ┆ pelagius   ┆           ┆          ┆   ┆           ┆           ┆           ┆           │\n",
       "│ …        ┆ …          ┆ …         ┆ …        ┆ … ┆ …         ┆ …         ┆ …         ┆ …         │\n",
       "│ 5263     ┆ Kitasatosp ┆ -7.388738 ┆ 0.000618 ┆ … ┆ false     ┆ false     ┆ 2.821479  ┆ 0.943826  │\n",
       "│          ┆ ora aureof ┆           ┆          ┆   ┆           ┆           ┆           ┆           │\n",
       "│          ┆ aciens     ┆           ┆          ┆   ┆           ┆           ┆           ┆           │\n",
       "│ 5263     ┆ Bacteroide ┆ -7.461622 ┆ 0.000574 ┆ … ┆ false     ┆ false     ┆ 2.821479  ┆ 0.943826  │\n",
       "│          ┆ s intestin ┆           ┆          ┆   ┆           ┆           ┆           ┆           │\n",
       "│          ┆ alis       ┆           ┆          ┆   ┆           ┆           ┆           ┆           │\n",
       "│ 5263     ┆ Wolbachia  ┆ -7.678973 ┆ 0.000462 ┆ … ┆ false     ┆ false     ┆ 2.821479  ┆ 0.943826  │\n",
       "│          ┆ sp.        ┆           ┆          ┆   ┆           ┆           ┆           ┆           │\n",
       "│ 5263     ┆ Vibrio     ┆ -7.898198 ┆ 0.000371 ┆ … ┆ false     ┆ false     ┆ 2.821479  ┆ 0.943826  │\n",
       "│          ┆ pelagius   ┆           ┆          ┆   ┆           ┆           ┆           ┆           │\n",
       "│ 5263     ┆ Streptococ ┆ -8.704237 ┆ 0.000166 ┆ … ┆ false     ┆ false     ┆ 2.821479  ┆ 0.943826  │\n",
       "│          ┆ cus acidom ┆           ┆          ┆   ┆           ┆           ┆           ┆           │\n",
       "│          ┆ inimus     ┆           ┆          ┆   ┆           ┆           ┆           ┆           │\n",
       "└──────────┴────────────┴───────────┴──────────┴───┴───────────┴───────────┴───────────┴───────────┘"
      ]
     },
     "execution_count": 9,
     "metadata": {},
     "output_type": "execute_result"
    }
   ],
   "source": [
    "results = predict(model, dataset.data, full_edge_index, full_edge_label)\n",
    "summary = summarize_predictions(results)\n",
    "summary"
   ]
  },
  {
   "cell_type": "code",
   "execution_count": 10,
   "metadata": {},
   "outputs": [],
   "source": [
    "def true_host_recall(\n",
    "    summary: pl.DataFrame, \n",
    "    threshold: float = 0.9, \n",
    "    taxon_rank: str | list[str] = \"all\"\n",
    ") -> float:\n",
    "    if taxon_rank == \"all\":\n",
    "        taxon_rank = host_taxa_levels[:]\n",
    "\n",
    "    if isinstance(taxon_rank, str):\n",
    "        taxon_rank = [taxon_rank]\n",
    "\n",
    "    taxon_rank = [\n",
    "        f\"host_{rank}\" if not rank.startswith(\"host_\") else rank\n",
    "        for rank in taxon_rank\n",
    "    ]\n",
    "    \n",
    "    total_viruses = summary[\"virus_id\"].n_unique()\n",
    "    filtered_summary = summary.filter(pl.col(\"proba\") >= threshold)\n",
    "\n",
    "    recall: dict[str, float] = {}\n",
    "    for level in taxon_rank:\n",
    "        predicted_viruses = (\n",
    "            filtered_summary.filter(pl.col(f\"{level}_true\"))\n",
    "            [\"virus_id\"]\n",
    "            .n_unique()\n",
    "        )\n",
    "\n",
    "        recall[level] = predicted_viruses / total_viruses\n",
    "\n",
    "    return recall"
   ]
  },
  {
   "cell_type": "code",
   "execution_count": 11,
   "metadata": {},
   "outputs": [
    {
     "data": {
      "text/plain": [
       "{'host_domain': 0.7096577017114915,\n",
       " 'host_phylum': 0.6693154034229829,\n",
       " 'host_class': 0.6644254278728606,\n",
       " 'host_order': 0.6014669926650367,\n",
       " 'host_family': 0.5831295843520783,\n",
       " 'host_genus': 0.5317848410757946,\n",
       " 'host_species': 0.45965770171149145}"
      ]
     },
     "execution_count": 11,
     "metadata": {},
     "output_type": "execute_result"
    }
   ],
   "source": [
    "true_host_recall(summary, 0.90, \"all\")"
   ]
  },
  {
   "cell_type": "code",
   "execution_count": 12,
   "metadata": {},
   "outputs": [],
   "source": [
    "def confidence_of_true_hosts(\n",
    "    summary: pl.DataFrame, \n",
    "    threshold: float = 0.9, \n",
    "    mirror_iphop: bool = True,\n",
    "    taxon_rank: str = \"species\",\n",
    "    as_histogram: bool = True,\n",
    ") -> pl.DataFrame:\n",
    "    if not taxon_rank.startswith(\"host_\"):\n",
    "        taxon_rank = f\"host_{taxon_rank}\"\n",
    "    \n",
    "    summary = summary.lazy() # type: ignore\n",
    "    if mirror_iphop:\n",
    "        # iphop does not report hits below the threshold, but this method will\n",
    "        # so we can keep track of these separately\n",
    "        summary = (\n",
    "            summary\n",
    "            .with_columns(\n",
    "                proba = (\n",
    "                    pl.when(pl.col(\"proba\") < threshold)\n",
    "                    .then(0.0)\n",
    "                    .otherwise(pl.col(\"proba\"))\n",
    "                )\n",
    "            )\n",
    "        )\n",
    "\n",
    "    summary = (\n",
    "        summary\n",
    "        .filter(pl.col(f\"{taxon_rank}_true\"))\n",
    "        .group_by(\"virus_id\")\n",
    "        .agg(pl.max(\"proba\"))\n",
    "        .select(\"virus_id\", \"proba\")\n",
    "        .sort(\"virus_id\")\n",
    "        .collect() # type:ignore\n",
    "    )\n",
    "\n",
    "    if as_histogram:\n",
    "        return (\n",
    "            summary\n",
    "            [\"proba\"]\n",
    "            .hist(bin_count=100)\n",
    "            .filter(pl.col(\"count\") > 0)\n",
    "        )\n",
    "\n",
    "    return summary.collect() # type: ignore"
   ]
  },
  {
   "cell_type": "markdown",
   "metadata": {},
   "source": [
    "This mirrors the species level recall computed above where 752/1636=0.4597 of the test viruses have their correct host predictions at or above a threshold of 0.9."
   ]
  },
  {
   "cell_type": "code",
   "execution_count": 13,
   "metadata": {},
   "outputs": [
    {
     "data": {
      "text/html": [
       "<div><style>\n",
       ".dataframe > thead > tr,\n",
       ".dataframe > tbody > tr {\n",
       "  text-align: right;\n",
       "  white-space: pre-wrap;\n",
       "}\n",
       "</style>\n",
       "<small>shape: (5, 3)</small><table border=\"1\" class=\"dataframe\"><thead><tr><th>break_point</th><th>category</th><th>count</th></tr><tr><td>f64</td><td>cat</td><td>u32</td></tr></thead><tbody><tr><td>0.02</td><td>&quot;(-0.01, 0.02]&quot;</td><td>884</td></tr><tr><td>0.92</td><td>&quot;(0.89, 0.92]&quot;</td><td>203</td></tr><tr><td>0.95</td><td>&quot;(0.92, 0.95]&quot;</td><td>266</td></tr><tr><td>0.98</td><td>&quot;(0.95, 0.98]&quot;</td><td>231</td></tr><tr><td>1.01</td><td>&quot;(0.98, 1.01]&quot;</td><td>52</td></tr></tbody></table></div>"
      ],
      "text/plain": [
       "shape: (5, 3)\n",
       "┌─────────────┬───────────────┬───────┐\n",
       "│ break_point ┆ category      ┆ count │\n",
       "│ ---         ┆ ---           ┆ ---   │\n",
       "│ f64         ┆ cat           ┆ u32   │\n",
       "╞═════════════╪═══════════════╪═══════╡\n",
       "│ 0.02        ┆ (-0.01, 0.02] ┆ 884   │\n",
       "│ 0.92        ┆ (0.89, 0.92]  ┆ 203   │\n",
       "│ 0.95        ┆ (0.92, 0.95]  ┆ 266   │\n",
       "│ 0.98        ┆ (0.95, 0.98]  ┆ 231   │\n",
       "│ 1.01        ┆ (0.98, 1.01]  ┆ 52    │\n",
       "└─────────────┴───────────────┴───────┘"
      ]
     },
     "execution_count": 13,
     "metadata": {},
     "output_type": "execute_result"
    }
   ],
   "source": [
    "confidence_of_true_hosts(\n",
    "    summary, \n",
    "    0.9, \n",
    "    True, \n",
    "    \"species\",\n",
    "    True,\n",
    ")"
   ]
  },
  {
   "cell_type": "markdown",
   "metadata": {},
   "source": [
    "Just repeat the above analyses for each of the trained models and include `iPHoP` results from the output. We specifically lower the confidence threshold of `iPHoP` to its minimum, and then manually filter the confidences as above with `polars`.\n",
    "```bash\n",
    "iphop predict -f FASTAFILE -m 75\n",
    "```"
   ]
  }
 ],
 "metadata": {
  "kernelspec": {
   "display_name": "pyg",
   "language": "python",
   "name": "python3"
  },
  "language_info": {
   "codemirror_mode": {
    "name": "ipython",
    "version": 3
   },
   "file_extension": ".py",
   "mimetype": "text/x-python",
   "name": "python",
   "nbconvert_exporter": "python",
   "pygments_lexer": "ipython3",
   "version": "3.10.14"
  }
 },
 "nbformat": 4,
 "nbformat_minor": 2
}
